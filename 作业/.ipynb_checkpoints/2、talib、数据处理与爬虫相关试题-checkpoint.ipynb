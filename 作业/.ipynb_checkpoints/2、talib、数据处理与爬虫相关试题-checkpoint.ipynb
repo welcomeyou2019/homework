{
 "cells": [
  {
   "cell_type": "markdown",
   "metadata": {},
   "source": [
    "# 4. 数据计算与统计试题"
   ]
  },
  {
   "cell_type": "markdown",
   "metadata": {},
   "source": [
    "4.1计算股票600104与600518的相关系数、spearman排序相关性与30天滚动的五日收益协方差"
   ]
  },
  {
   "cell_type": "code",
   "execution_count": 2,
   "metadata": {},
   "outputs": [
    {
     "name": "stderr",
     "output_type": "stream",
     "text": [
      "/Library/Frameworks/Python.framework/Versions/3.6/lib/python3.6/site-packages/pandas/io/excel.py:329: FutureWarning: The `sheetname` keyword is deprecated, use `sheet_name` instead\n",
      "  **kwds)\n"
     ]
    }
   ],
   "source": [
    "import pandas as pd\n",
    "stock1 = pd.read_excel('sz50.xlsx',sheetname='600104.XSHG', index_col='datetime')\n",
    "stock2 = pd.read_excel('sz50.xlsx',sheetname='600518.XSHG', index_col='datetime')"
   ]
  },
  {
   "cell_type": "code",
   "execution_count": 3,
   "metadata": {},
   "outputs": [],
   "source": [
    "df = pd.concat([stock1.close.pct_change(5), stock2.close.pct_change(5)], keys=['stock1','stock2'], axis=1)\n",
    "#print(df)"
   ]
  },
  {
   "cell_type": "code",
   "execution_count": 4,
   "metadata": {},
   "outputs": [
    {
     "name": "stdout",
     "output_type": "stream",
     "text": [
      "          stock1    stock2\n",
      "stock1  1.000000  0.348809\n",
      "stock2  0.348809  1.000000\n"
     ]
    }
   ],
   "source": [
    "correlation = df.corr()\n",
    "print(correlation)"
   ]
  },
  {
   "cell_type": "code",
   "execution_count": 5,
   "metadata": {},
   "outputs": [
    {
     "name": "stdout",
     "output_type": "stream",
     "text": [
      "         stock1   stock2\n",
      "stock1  1.00000  0.38035\n",
      "stock2  0.38035  1.00000\n"
     ]
    }
   ],
   "source": [
    "cor_1 = df.corr(method='spearman')\n",
    "print(cor_1)"
   ]
  },
  {
   "cell_type": "code",
   "execution_count": 6,
   "metadata": {},
   "outputs": [
    {
     "name": "stdout",
     "output_type": "stream",
     "text": [
      "                              stock1    stock2\n",
      "datetime                                      \n",
      "2017-02-27 15:00:00 stock1  0.000516  0.000194\n",
      "                    stock2  0.000194  0.000319\n",
      "2017-02-28 15:00:00 stock1  0.000514  0.000186\n",
      "                    stock2  0.000186  0.000281\n",
      "2017-03-01 15:00:00 stock1  0.000502  0.000153\n",
      "                    stock2  0.000153  0.000247\n",
      "2017-03-02 15:00:00 stock1  0.000512  0.000145\n",
      "                    stock2  0.000145  0.000216\n",
      "2017-03-03 15:00:00 stock1  0.000519  0.000153\n",
      "                    stock2  0.000153  0.000225\n",
      "2017-03-06 15:00:00 stock1  0.000523  0.000157\n",
      "                    stock2  0.000157  0.000228\n",
      "2017-03-07 15:00:00 stock1  0.000534  0.000154\n",
      "                    stock2  0.000154  0.000222\n",
      "2017-03-08 15:00:00 stock1  0.000516  0.000147\n",
      "                    stock2  0.000147  0.000220\n",
      "2017-03-09 15:00:00 stock1  0.000499  0.000123\n",
      "                    stock2  0.000123  0.000200\n",
      "2017-03-10 15:00:00 stock1  0.000464  0.000092\n",
      "                    stock2  0.000092  0.000185\n",
      "2017-03-13 15:00:00 stock1  0.000479  0.000088\n",
      "                    stock2  0.000088  0.000185\n",
      "2017-03-14 15:00:00 stock1  0.000479  0.000084\n",
      "                    stock2  0.000084  0.000185\n",
      "2017-03-15 15:00:00 stock1  0.000472  0.000074\n",
      "                    stock2  0.000074  0.000191\n",
      "2017-03-16 15:00:00 stock1  0.000473  0.000078\n",
      "                    stock2  0.000078  0.000200\n",
      "2017-03-17 15:00:00 stock1  0.000503  0.000069\n",
      "                    stock2  0.000069  0.000166\n",
      "...                              ...       ...\n",
      "2017-10-31 15:00:00 stock1  0.000570  0.000280\n",
      "                    stock2  0.000280  0.000467\n",
      "2017-11-01 15:00:00 stock1  0.000789  0.000347\n",
      "                    stock2  0.000347  0.000470\n",
      "2017-11-02 15:00:00 stock1  0.000901  0.000340\n",
      "                    stock2  0.000340  0.000451\n",
      "2017-11-03 15:00:00 stock1  0.001013  0.000318\n",
      "                    stock2  0.000318  0.000429\n",
      "2017-11-06 15:00:00 stock1  0.001175  0.000237\n",
      "                    stock2  0.000237  0.000441\n",
      "2017-11-07 15:00:00 stock1  0.001152  0.000185\n",
      "                    stock2  0.000185  0.000497\n",
      "2017-11-08 15:00:00 stock1  0.001146  0.000185\n",
      "                    stock2  0.000185  0.000537\n",
      "2017-11-09 15:00:00 stock1  0.001149  0.000211\n",
      "                    stock2  0.000211  0.000611\n",
      "2017-11-10 15:00:00 stock1  0.001168  0.000298\n",
      "                    stock2  0.000298  0.000652\n",
      "2017-11-13 15:00:00 stock1  0.001210  0.000266\n",
      "                    stock2  0.000266  0.000676\n",
      "2017-11-14 15:00:00 stock1  0.001215  0.000256\n",
      "                    stock2  0.000256  0.000683\n",
      "2017-11-15 15:00:00 stock1  0.001206  0.000272\n",
      "                    stock2  0.000272  0.000679\n",
      "2017-11-16 15:00:00 stock1  0.001200  0.000289\n",
      "                    stock2  0.000289  0.000682\n",
      "2017-11-17 15:00:00 stock1  0.001196  0.000291\n",
      "                    stock2  0.000291  0.000710\n",
      "2017-11-20 15:00:00 stock1  0.001192  0.000318\n",
      "                    stock2  0.000318  0.000696\n",
      "\n",
      "[362 rows x 2 columns]\n"
     ]
    }
   ],
   "source": [
    "cov = df.rolling(30).cov()\n",
    "print(cov.dropna())"
   ]
  },
  {
   "cell_type": "markdown",
   "metadata": {},
   "source": [
    "4.2\n",
    "读取600104.XSHG的股票日线\n",
    "\n",
    "利用正确的方法将日K线聚合成周K线\n",
    "\n",
    "将周K线画出来"
   ]
  },
  {
   "cell_type": "code",
   "execution_count": 7,
   "metadata": {},
   "outputs": [
    {
     "name": "stderr",
     "output_type": "stream",
     "text": [
      "/Library/Frameworks/Python.framework/Versions/3.6/lib/python3.6/site-packages/ipykernel_launcher.py:9: FutureWarning: '.reindex_axis' is deprecated and will be removed in a future version. Use '.reindex' instead.\n",
      "  if __name__ == '__main__':\n"
     ]
    },
    {
     "data": {
      "image/png": "[encoded data removed]",
      "text/plain": [
       "<Figure size 1080x864 with 1 Axes>"
      ]
     },
     "metadata": {
      "needs_background": "light"
     },
     "output_type": "display_data"
    }
   ],
   "source": [
    "import matplotlib.pyplot as plt\n",
    "from matplotlib.pylab import date2num\n",
    "\n",
    "#print(stock1)\n",
    "stock1_1 = stock1.resample('W').agg({'high':'max','low':'min', 'close':'last', 'open':'first'})\n",
    "#print(stock1_1)\n",
    "stock1_1['time'] = list(map(date2num, stock1_1.index))\n",
    "\n",
    "candle = stock1_1.reindex_axis([\"time\", \"open\", \"high\", \"low\", \"close\"], 1).values\n",
    "\n",
    "import mpl_finance as mpf\n",
    "\n",
    "fig, (ax) = plt.subplots(1,1, figsize=(15,12))\n",
    "fig.subplots_adjust(bottom=0.5)\n",
    "ax.grid(True)\n",
    "mpf.candlestick_ohlc(ax, candle, width=0.6, colorup='r', colordown='g',alpha=1.0)\n",
    "ax.xaxis_date ()\n",
    "\n",
    "plt.show()"
   ]
  },
  {
   "cell_type": "markdown",
   "metadata": {},
   "source": [
    "4.3 读取股票601857数据，计算股票回报率，判断样本在2017-01-01,到2017-12-31，有没有服从正态分布，并判断样本均值是否为0"
   ]
  },
  {
   "cell_type": "code",
   "execution_count": 7,
   "metadata": {},
   "outputs": [
    {
     "name": "stdout",
     "output_type": "stream",
     "text": [
      "判断样本分布不服从正态分布\n"
     ]
    }
   ],
   "source": [
    "import tushare as ts\n",
    "from statsmodels.stats.stattools import jarque_bera\n",
    "\n",
    "data = ts.get_k_data('601857', start='2017-01-01', end='2017-12-31', ktype='D',autype='qfq')\n",
    "data.index = pd.to_datetime(data['date'],format='%Y-%m-%d')\n",
    "data['percentage']=data['close'].pct_change()\n",
    "\n",
    "returns = data['percentage'][1:]\n",
    "_, pvalue, _, _ = jarque_bera(returns)\n",
    "if pvalue > 0.05:\n",
    "    print ('判断样本分布服从正态分布')\n",
    "else:\n",
    "    print ('判断样本分布不服从正态分布')"
   ]
  },
  {
   "cell_type": "code",
   "execution_count": 8,
   "metadata": {},
   "outputs": [
    {
     "name": "stdout",
     "output_type": "stream",
     "text": [
      "判断样本均值为0\n"
     ]
    }
   ],
   "source": [
    "import scipy\n",
    "t_test = scipy.stats.ttest_1samp(returns, 0)\n",
    "if t_test.pvalue > 0.05:\n",
    "    print ('判断样本均值为0')\n",
    "else:\n",
    "    print ('判断样本均值不为0')"
   ]
  },
  {
   "cell_type": "markdown",
   "metadata": {},
   "source": [
    "4.4用talib计算601901.XSHG以10天为周期的EMA，再算出DEMA，打印两个结果的最后5个数据"
   ]
  },
  {
   "cell_type": "code",
   "execution_count": 18,
   "metadata": {},
   "outputs": [
    {
     "name": "stdout",
     "output_type": "stream",
     "text": [
      "datetime\n",
      "2017-11-14 15:00:00    8.556962\n",
      "2017-11-15 15:00:00    8.544787\n",
      "2017-11-16 15:00:00    8.496644\n",
      "2017-11-17 15:00:00    8.426345\n",
      "2017-11-20 15:00:00    8.388828\n",
      "dtype: float64\n"
     ]
    },
    {
     "name": "stderr",
     "output_type": "stream",
     "text": [
      "/Library/Frameworks/Python.framework/Versions/3.6/lib/python3.6/site-packages/pandas/io/excel.py:329: FutureWarning: The `sheetname` keyword is deprecated, use `sheet_name` instead\n",
      "  **kwds)\n"
     ]
    }
   ],
   "source": [
    "import talib as ta\n",
    "stock3 = pd.read_excel('sz50.xlsx',sheetname='601901.XSHG', index_col='datetime')\n",
    "ma10 = ta.EMA(stock3.close,timeperiod=10)\n",
    "print(ma10.tail())"
   ]
  },
  {
   "cell_type": "code",
   "execution_count": 10,
   "metadata": {},
   "outputs": [
    {
     "name": "stdout",
     "output_type": "stream",
     "text": [
      "                        close\n",
      "datetime                     \n",
      "2017-11-14 15:00:00  8.602581\n",
      "2017-11-15 15:00:00  8.572151\n",
      "2017-11-16 15:00:00  8.479642\n",
      "2017-11-17 15:00:00  8.354917\n",
      "2017-11-20 15:00:00  8.299691\n"
     ]
    }
   ],
   "source": []
  },
  {
   "cell_type": "code",
   "execution_count": 17,
   "metadata": {},
   "outputs": [
    {
     "name": "stdout",
     "output_type": "stream",
     "text": [
      "datetime\n",
      "2017-11-14 15:00:00    8.602581\n",
      "2017-11-15 15:00:00    8.572151\n",
      "2017-11-16 15:00:00    8.479642\n",
      "2017-11-17 15:00:00    8.354917\n",
      "2017-11-20 15:00:00    8.299691\n",
      "dtype: float64\n"
     ]
    }
   ],
   "source": [
    "dema = ta.DEMA(stock3.close,timeperiod=10)\n",
    "print(dema.tail())"
   ]
  },
  {
   "cell_type": "markdown",
   "metadata": {},
   "source": [
    "# 5.爬虫考试，随意爬取一个网站做你想做的数据分析，并用可视化手段展示​，最后不要直接展示html代码,可为pdf、excel等形式"
   ]
  },
  {
   "cell_type": "markdown",
   "metadata": {},
   "source": [
    "各类网站，如豆瓣网，雪球网，糗事百科及其它，内容只要不涉及相关禁令即可。\n",
    "\n",
    "optional（可对爬虫的内容做更多处理）"
   ]
  },
  {
   "cell_type": "code",
   "execution_count": null,
   "metadata": {},
   "outputs": [],
   "source": []
  }
 ],
 "metadata": {
  "kernelspec": {
   "display_name": "Python 3",
   "language": "python",
   "name": "python3"
  },
  "language_info": {
   "codemirror_mode": {
    "name": "ipython",
    "version": 3
   },
   "file_extension": ".py",
   "mimetype": "text/x-python",
   "name": "python",
   "nbconvert_exporter": "python",
   "pygments_lexer": "ipython3",
   "version": "3.6.6"
  }
 },
 "nbformat": 4,
 "nbformat_minor": 2
}
