{
 "cells": [
  {
   "cell_type": "markdown",
   "metadata": {},
   "source": [
    "# 1.python基础作业"
   ]
  },
  {
   "cell_type": "markdown",
   "metadata": {},
   "source": [
    "1.1 type任意两个数值，输出float、int"
   ]
  },
  {
   "cell_type": "code",
   "execution_count": 3,
   "metadata": {},
   "outputs": [
    {
     "data": {
      "text/plain": [
       "int"
      ]
     },
     "execution_count": 3,
     "metadata": {},
     "output_type": "execute_result"
    }
   ],
   "source": [
    "a = 111\n",
    "type(a)"
   ]
  },
  {
   "cell_type": "markdown",
   "metadata": {},
   "source": [
    "1.2给a、b、c赋值，输出结果为12，并判断a与b是否相等"
   ]
  },
  {
   "cell_type": "code",
   "execution_count": 1,
   "metadata": {},
   "outputs": [
    {
     "name": "stdout",
     "output_type": "stream",
     "text": [
      "12\n",
      "False\n"
     ]
    }
   ],
   "source": [
    "a = 3\n",
    "b = 5\n",
    "c = 4\n",
    "print(a+b+c)\n",
    "if a==b:\n",
    "    print('True')\n",
    "else:\n",
    "    print('False')"
   ]
  },
  {
   "cell_type": "markdown",
   "metadata": {},
   "source": [
    "1.3要求用户输入1到100之间数字并判断，输入符合要求,如果是1-100以内的数字，输出“100以内的数字”，否则输出“区间以外的数字”。最后打印结果为100以内的数字。"
   ]
  },
  {
   "cell_type": "code",
   "execution_count": 5,
   "metadata": {},
   "outputs": [
    {
     "name": "stdout",
     "output_type": "stream",
     "text": [
      "4\n",
      "100以内的数字\n"
     ]
    }
   ],
   "source": [
    "a = int(input(''))\n",
    "if a>0 and a<100:\n",
    "    print('100以内的数字')\n",
    "else:\n",
    "    print('区间以外的数字')"
   ]
  },
  {
   "cell_type": "markdown",
   "metadata": {},
   "source": [
    "1.4   python单行注释和多行注解分别用什么?\n"
   ]
  },
  {
   "cell_type": "code",
   "execution_count": 2,
   "metadata": {},
   "outputs": [
    {
     "name": "stdout",
     "output_type": "stream",
     "text": [
      "python单行注释用#，多行注解用三个引号\n"
     ]
    }
   ],
   "source": [
    "print(\"python单行注释用#，多行注解用三个引号\")"
   ]
  },
  {
   "cell_type": "markdown",
   "metadata": {},
   "source": [
    "# 2 python进阶基础作业"
   ]
  },
  {
   "cell_type": "markdown",
   "metadata": {},
   "source": [
    "2.1有四个数字：1、2、3、4，能组成多少个互不相同且无重复数字的三位数？各是多少？"
   ]
  },
  {
   "cell_type": "code",
   "execution_count": 7,
   "metadata": {},
   "outputs": [
    {
     "name": "stdout",
     "output_type": "stream",
     "text": [
      "1 2 3\n",
      "1 2 4\n",
      "1 3 2\n",
      "1 3 4\n",
      "1 4 2\n",
      "1 4 3\n",
      "2 1 3\n",
      "2 1 4\n",
      "2 3 1\n",
      "2 3 4\n",
      "2 4 1\n",
      "2 4 3\n",
      "3 1 2\n",
      "3 1 4\n",
      "3 2 1\n",
      "3 2 4\n",
      "3 4 1\n",
      "3 4 2\n",
      "4 1 2\n",
      "4 1 3\n",
      "4 2 1\n",
      "4 2 3\n",
      "4 3 1\n",
      "4 3 2\n"
     ]
    }
   ],
   "source": [
    "a = [1,2,3,4]\n",
    "for i in a:\n",
    "    for j in a:\n",
    "        if i == j:\n",
    "            continue\n",
    "        for k in a:\n",
    "            if k == i or k == j:\n",
    "                continue\n",
    "            print(i, j, k)\n",
    "        "
   ]
  },
  {
   "cell_type": "markdown",
   "metadata": {},
   "source": [
    "2.2  a=[1, 2, 3, 4, 5], a[::2]=?, a[-2:] = ?"
   ]
  },
  {
   "cell_type": "code",
   "execution_count": 9,
   "metadata": {},
   "outputs": [
    {
     "name": "stdout",
     "output_type": "stream",
     "text": [
      "[1, 3, 5]\n",
      "[4, 5]\n"
     ]
    }
   ],
   "source": [
    "a=[1, 2, 3, 4, 5]\n",
    "print(a[::2])\n",
    "print(a[-2:])"
   ]
  },
  {
   "cell_type": "markdown",
   "metadata": {},
   "source": [
    "2.3 使用filter过滤[1,2,7,12,45,56,66]中的奇数，最后输出[2,12,56,66]"
   ]
  },
  {
   "cell_type": "code",
   "execution_count": 15,
   "metadata": {},
   "outputs": [
    {
     "name": "stdout",
     "output_type": "stream",
     "text": [
      "[2, 12, 56, 66]\n"
     ]
    }
   ],
   "source": [
    "def not_odd(n):\n",
    "    return n%2 ==0\n",
    "\n",
    "ans = list(filter(not_odd,[1,2,7,12,45,56,66]))\n",
    "print(ans)"
   ]
  },
  {
   "cell_type": "markdown",
   "metadata": {},
   "source": [
    "# 3. pandas数据处理作业"
   ]
  },
  {
   "cell_type": "markdown",
   "metadata": {},
   "source": [
    "3.1 读取excel数据并进行抽样resample()\n",
    "\n",
    "只保留data中的open，获取data的数据类型与后5个值："
   ]
  },
  {
   "cell_type": "code",
   "execution_count": 17,
   "metadata": {},
   "outputs": [
    {
     "name": "stdout",
     "output_type": "stream",
     "text": [
      "                      close    high     low    open    volume\n",
      "datetime                                                     \n",
      "2017-01-03 15:00:00  115.99  117.06  115.14  115.43  16232125\n",
      "2017-01-04 15:00:00  116.28  116.42  115.21  115.99  29656234\n",
      "2017-01-05 15:00:00  116.07  116.64  115.64  116.07  26436646\n",
      "2017-01-06 15:00:00  115.21  116.07  114.86  116.07  17195598\n",
      "2017-01-09 15:00:00  115.35  115.99  114.86  115.64  14908745\n",
      "2017-01-10 15:00:00  115.28  115.64  114.93  115.21   7996636\n",
      "2017-01-11 15:00:00  115.07  115.64  115.00  115.64   9166532\n",
      "2017-01-12 15:00:00  114.78  115.35  114.71  115.21   8295650\n",
      "2017-01-13 15:00:00  115.85  115.99  114.64  114.64  19024943\n",
      "2017-01-16 15:00:00  117.92  118.20  114.64  115.57  53249124\n",
      "2017-01-17 15:00:00  116.85  117.77  116.56  117.21  12555292\n",
      "2017-01-18 15:00:00  117.42  117.85  116.49  116.92  11478663\n",
      "2017-01-19 15:00:00  117.77  118.49  116.99  116.99  12180687\n",
      "2017-01-20 15:00:00  118.06  118.63  117.49  118.06  14285968\n",
      "2017-01-23 15:00:00  117.99  118.84  117.56  118.63  14615740\n",
      "2017-01-24 15:00:00  118.91  118.91  118.06  118.06  14985241\n",
      "2017-01-25 15:00:00  118.91  119.20  118.27  118.84  11284869\n",
      "2017-01-26 15:00:00  119.41  119.91  118.27  118.84   8602907\n",
      "2017-02-03 15:00:00  118.42  119.98  118.34  119.77   8171489\n",
      "2017-02-06 15:00:00  118.63  119.48  118.63  119.27  13455250\n",
      "2017-02-07 15:00:00  118.77  119.20  118.42  118.56  14757284\n",
      "2017-02-08 15:00:00  118.63  118.84  117.77  118.42  11238767\n",
      "2017-02-09 15:00:00  119.06  119.41  118.13  118.77  11393034\n",
      "2017-02-10 15:00:00  119.48  119.91  118.91  119.34  13983062\n",
      "2017-02-13 15:00:00  119.98  120.34  119.48  120.20  19992372\n",
      "2017-02-14 15:00:00  119.34  120.20  119.20  120.12  12987135\n",
      "2017-02-15 15:00:00  119.98  120.55  119.27  119.77  25687112\n",
      "2017-02-16 15:00:00  119.48  120.41  119.34  120.20  16325732\n",
      "2017-02-17 15:00:00  118.56  119.77  118.13  119.48  13863642\n",
      "2017-02-20 15:00:00  120.55  120.91  118.34  118.34  29915560\n",
      "...                     ...     ...     ...     ...       ...\n",
      "2017-10-10 15:00:00  122.81  122.81  121.78  122.44  13475400\n",
      "2017-10-11 15:00:00  122.44  122.91  122.16  122.34   9654900\n",
      "2017-10-12 15:00:00  122.34  122.72  121.59  122.34   8363600\n",
      "2017-10-13 15:00:00  121.31  122.62  121.22  122.16  11271700\n",
      "2017-10-16 15:00:00  122.25  122.44  121.31  121.59  11832600\n",
      "2017-10-17 15:00:00  121.78  122.44  121.41  122.16   7934100\n",
      "2017-10-18 15:00:00  122.53  122.72  121.22  121.87  22599700\n",
      "2017-10-19 15:00:00  123.09  123.37  121.69  122.25  28931900\n",
      "2017-10-20 15:00:00  121.97  122.81  121.97  122.53   8716900\n",
      "2017-10-23 15:00:00  120.37  122.16  120.28  122.06  15590300\n",
      "2017-10-24 15:00:00  120.56  121.41  120.19  120.37  12571800\n",
      "2017-10-25 15:00:00  120.94  121.31  120.19  120.56  10200400\n",
      "2017-10-26 15:00:00  120.19  120.75  119.81  120.75  12938000\n",
      "2017-10-27 15:00:00  120.47  121.31  120.19  120.37  15482700\n",
      "2017-10-30 15:00:00  119.06  120.19  118.03  120.19  37086800\n",
      "2017-10-31 15:00:00  118.22  118.69  117.94  118.22   9330200\n",
      "2017-11-01 15:00:00  117.56  119.25  117.47  118.12  16948000\n",
      "2017-11-02 15:00:00  117.47  117.75  116.53  117.37  23219200\n",
      "2017-11-03 15:00:00  117.94  118.12  116.53  117.47  15786000\n",
      "2017-11-06 15:00:00  116.91  117.56  116.72  117.56   9785200\n",
      "2017-11-07 15:00:00  117.56  118.12  116.34  116.91  19003800\n",
      "2017-11-08 15:00:00  117.94  118.87  117.19  117.47  18500100\n",
      "2017-11-09 15:00:00  117.66  118.41  117.47  117.84   8739900\n",
      "2017-11-10 15:00:00  118.41  118.41  116.81  117.56  24748600\n",
      "2017-11-13 15:00:00  120.00  120.47  118.41  118.59  41250100\n",
      "2017-11-14 15:00:00  118.12  119.72  117.94  119.62  17172100\n",
      "2017-11-15 15:00:00  118.12  118.41  117.66  117.84  14029600\n",
      "2017-11-16 15:00:00  116.16  117.75  116.06  117.75  18042800\n",
      "2017-11-17 15:00:00  119.81  120.00  116.25  116.25  53475100\n",
      "2017-11-20 15:00:00  120.47  120.56  118.22  118.97  29413900\n",
      "\n",
      "[215 rows x 5 columns]\n",
      "datetime\n",
      "2017-11-14 15:00:00    119.62\n",
      "2017-11-15 15:00:00    117.84\n",
      "2017-11-16 15:00:00    117.75\n",
      "2017-11-17 15:00:00    116.25\n",
      "2017-11-20 15:00:00    118.97\n",
      "Name: open, dtype: float64\n"
     ]
    },
    {
     "name": "stderr",
     "output_type": "stream",
     "text": [
      "/Library/Frameworks/Python.framework/Versions/3.6/lib/python3.6/site-packages/pandas/io/excel.py:329: FutureWarning: The `sheetname` keyword is deprecated, use `sheet_name` instead\n",
      "  **kwds)\n"
     ]
    }
   ],
   "source": [
    "import pandas as pd\n",
    "\n",
    "data = pd.read_excel('sz50.xlsx', sheetname=0, index_col='datetime')\n",
    "print(data)\n",
    "Series = data.open\n",
    "print(Series.tail())"
   ]
  },
  {
   "cell_type": "markdown",
   "metadata": {},
   "source": [
    "3.2 表示在【0-31】这32个数字中分成8行4列  "
   ]
  },
  {
   "cell_type": "code",
   "execution_count": 19,
   "metadata": {},
   "outputs": [
    {
     "name": "stdout",
     "output_type": "stream",
     "text": [
      "[[ 0  1  2  3]\n",
      " [ 4  5  6  7]\n",
      " [ 8  9 10 11]\n",
      " [12 13 14 15]\n",
      " [16 17 18 19]\n",
      " [20 21 22 23]\n",
      " [24 25 26 27]\n",
      " [28 29 30 31]]\n"
     ]
    }
   ],
   "source": [
    "import numpy as np\n",
    "print(np.arange(32).reshape(8,4))"
   ]
  },
  {
   "cell_type": "markdown",
   "metadata": {},
   "source": [
    "3.3 将第5个到第7个改为12  \n",
    "arr=np.arange(10)  最后输出结果为[ 0  1  2  3  4 12 12 12  8  9]"
   ]
  },
  {
   "cell_type": "code",
   "execution_count": 8,
   "metadata": {},
   "outputs": [
    {
     "data": {
      "text/plain": [
       "array([ 0,  1,  2,  3,  4, 12, 12, 12,  8,  9])"
      ]
     },
     "execution_count": 8,
     "metadata": {},
     "output_type": "execute_result"
    }
   ],
   "source": [
    "import numpy as np\n",
    "arr = np.arange(10)\n",
    "arr[5:8] = 12\n",
    "arr"
   ]
  },
  {
   "cell_type": "markdown",
   "metadata": {},
   "source": [
    "3.4如何方便的计算两个时间的差，如两个时间相差几天，几小时等，写出代码，列出式子"
   ]
  },
  {
   "cell_type": "code",
   "execution_count": 6,
   "metadata": {},
   "outputs": [
    {
     "data": {
      "text/plain": [
       "6858"
      ]
     },
     "execution_count": 6,
     "metadata": {},
     "output_type": "execute_result"
    }
   ],
   "source": [
    "from datetime import datetime,timedelta\n",
    "def time_diff(time1,time2):\n",
    "    return time1-time2\n",
    "t1 = datetime.now()\n",
    "t2 = datetime(2000,1,1,0,0,0)\n",
    "time_diff(t1,t2).days"
   ]
  },
  {
   "cell_type": "markdown",
   "metadata": {},
   "source": [
    "# 4.数据计算与统计作业"
   ]
  },
  {
   "cell_type": "markdown",
   "metadata": {},
   "source": [
    "4.1 计算股票600104、600518的协方差"
   ]
  },
  {
   "cell_type": "code",
   "execution_count": 22,
   "metadata": {},
   "outputs": [
    {
     "name": "stderr",
     "output_type": "stream",
     "text": [
      "/Library/Frameworks/Python.framework/Versions/3.6/lib/python3.6/site-packages/pandas/io/excel.py:329: FutureWarning: The `sheetname` keyword is deprecated, use `sheet_name` instead\n",
      "  **kwds)\n"
     ]
    }
   ],
   "source": [
    "import pandas as pd\n",
    "\n",
    "stock1 = pd.read_excel('sz50.xlsx',sheetname='600104.XSHG', index_col='datetime')\n",
    "stock2 = pd.read_excel('sz50.xlsx',sheetname='600518.XSHG', index_col='datetime')"
   ]
  },
  {
   "cell_type": "code",
   "execution_count": 23,
   "metadata": {},
   "outputs": [],
   "source": [
    "five_day_df = pd.concat([stock1.close.pct_change(5),stock2.close.pct_change(5)],keys=['stock1','stock2'],axis=1)"
   ]
  },
  {
   "cell_type": "code",
   "execution_count": 25,
   "metadata": {},
   "outputs": [
    {
     "name": "stdout",
     "output_type": "stream",
     "text": [
      "                       stock1    stock2\n",
      "datetime                               \n",
      "2017-11-14 15:00:00  0.043045  0.002651\n",
      "2017-11-15 15:00:00  0.036337  0.024635\n",
      "2017-11-16 15:00:00  0.024782  0.037083\n",
      "2017-11-17 15:00:00  0.023714  0.058516\n",
      "2017-11-20 15:00:00  0.018449  0.060852\n"
     ]
    }
   ],
   "source": [
    "print(five_day_df.tail())"
   ]
  },
  {
   "cell_type": "code",
   "execution_count": 26,
   "metadata": {},
   "outputs": [
    {
     "name": "stdout",
     "output_type": "stream",
     "text": [
      "          stock1    stock2\n",
      "stock1  0.000820  0.000245\n",
      "stock2  0.000245  0.000599\n"
     ]
    }
   ],
   "source": [
    "print(five_day_df.cov())"
   ]
  },
  {
   "cell_type": "markdown",
   "metadata": {},
   "source": [
    "4.2 投一个骰子，1\\6概率为6，投了6次，重复60轮，平均每轮骰子为6的次数时多少？"
   ]
  },
  {
   "cell_type": "code",
   "execution_count": 46,
   "metadata": {},
   "outputs": [
    {
     "data": {
      "image/png": "[encoded data removed]",
      "text/plain": [
       "<Figure size 1080x360 with 1 Axes>"
      ]
     },
     "metadata": {
      "needs_background": "light"
     },
     "output_type": "display_data"
    }
   ],
   "source": [
    "import pandas as pd\n",
    "import numpy as np\n",
    "import matplotlib.pyplot as plt\n",
    "\n",
    "# randint 产生随机整数\n",
    "DiscreteRandomVariable = np.random.binomial(6, 0.167, 60)\n",
    "fig = plt.figure(figsize=(15, 5))\n",
    "plt.hist(DiscreteRandomVariable , bins = [0,1,2,3,4,5,6,7], align='left')\n",
    "plt.xlabel('Value')\n",
    "plt.ylabel('Occurences')\n",
    "plt.legend(['BinomiaRandomVariable'])\n",
    "plt.show()"
   ]
  },
  {
   "cell_type": "markdown",
   "metadata": {},
   "source": [
    "4.3 读取股票600030数据，并利用talib模块，制作CCI的绘图，周期默认为10"
   ]
  },
  {
   "cell_type": "code",
   "execution_count": 28,
   "metadata": {},
   "outputs": [
    {
     "name": "stderr",
     "output_type": "stream",
     "text": [
      "/Library/Frameworks/Python.framework/Versions/3.6/lib/python3.6/site-packages/pandas/io/excel.py:329: FutureWarning: The `sheetname` keyword is deprecated, use `sheet_name` instead\n",
      "  **kwds)\n"
     ]
    }
   ],
   "source": [
    "import pandas as pd\n",
    "import talib as ta\n",
    "import matplotlib.pyplot as plt\n",
    "\n",
    "stock1 = pd.read_excel('sz50.xlsx',sheetname='600030.XSHG', index_col='datetime')"
   ]
  },
  {
   "cell_type": "code",
   "execution_count": 39,
   "metadata": {},
   "outputs": [],
   "source": [
    "cci = pd.Series(ta.CCI(stock1['high'].values, stock1['low'].values, stock1['close'].values, timeperiod=10),index=stock1.index)"
   ]
  },
  {
   "cell_type": "code",
   "execution_count": 38,
   "metadata": {},
   "outputs": [
    {
     "data": {
      "image/png": "[encoded data removed]",
      "text/plain": [
       "<Figure size 1080x504 with 2 Axes>"
      ]
     },
     "metadata": {
      "needs_background": "light"
     },
     "output_type": "display_data"
    }
   ],
   "source": [
    "fig, (ax, ax1) = plt.subplots(2,1,sharex=True, figsize=(15,7))\n",
    "ax.plot(stock1.close)\n",
    "ax1.plot(cci)\n",
    "plt.show()"
   ]
  },
  {
   "cell_type": "markdown",
   "metadata": {},
   "source": [
    "#  5.爬虫作业"
   ]
  },
  {
   "cell_type": "markdown",
   "metadata": {},
   "source": [
    "1.在图灵机器人注册账号并申请APIKEY，放入指定位置并运作课件成功"
   ]
  },
  {
   "cell_type": "markdown",
   "metadata": {},
   "source": [
    "2.自己查看自己的请求头，复制出来user–agent部分，放入请求douban的请求头中"
   ]
  },
  {
   "cell_type": "markdown",
   "metadata": {},
   "source": [
    "3.阅读菜鸟教程熟悉re库"
   ]
  },
  {
   "cell_type": "markdown",
   "metadata": {},
   "source": [
    "4.在大鱼官网注册账号密码，在课件中指定位置输入，并运行课件成功"
   ]
  },
  {
   "cell_type": "markdown",
   "metadata": {},
   "source": [
    "最后提交代码运行结果"
   ]
  },
  {
   "cell_type": "code",
   "execution_count": null,
   "metadata": {
    "collapsed": true
   },
   "outputs": [],
   "source": []
  }
 ],
 "metadata": {
  "kernelspec": {
   "display_name": "Python 3",
   "language": "python",
   "name": "python3"
  },
  "language_info": {
   "codemirror_mode": {
    "name": "ipython",
    "version": 3
   },
   "file_extension": ".py",
   "mimetype": "text/x-python",
   "name": "python",
   "nbconvert_exporter": "python",
   "pygments_lexer": "ipython3",
   "version": "3.6.6"
  }
 },
 "nbformat": 4,
 "nbformat_minor": 2
}
